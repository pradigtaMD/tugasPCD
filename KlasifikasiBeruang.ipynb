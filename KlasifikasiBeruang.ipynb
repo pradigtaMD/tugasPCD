{
  "nbformat": 4,
  "nbformat_minor": 0,
  "metadata": {
    "colab": {
      "provenance": []
    },
    "kernelspec": {
      "name": "python3",
      "display_name": "Python 3"
    },
    "language_info": {
      "name": "python"
    }
  },
  "cells": [
    {
      "cell_type": "code",
      "execution_count": 8,
      "metadata": {
        "id": "YXokFFc268XW"
      },
      "outputs": [],
      "source": [
        "# Import libraries\n",
        "import os\n",
        "import numpy as np\n",
        "import cv2\n",
        "from sklearn.model_selection import train_test_split\n",
        "from sklearn.svm import SVC\n",
        "from sklearn.neighbors import KNeighborsClassifier\n",
        "from sklearn.metrics import classification_report, accuracy_score\n",
        "from pathlib import Path"
      ]
    },
    {
      "cell_type": "code",
      "source": [
        "# Load dataset paths\n",
        "data_dir = \"/content/drive/MyDrive/data\"  # Ubah path dataset sesuai struktur di Google Drive\n",
        "data_dir = Path(data_dir)  # Menggunakan pathlib.Path untuk membuat objek path\n",
        "\n",
        "panda = list(data_dir.glob('panda/*'))\n",
        "polar = list(data_dir.glob('polar/*'))\n",
        "grizzly = list(data_dir.glob('grizzly/*'))\n"
      ],
      "metadata": {
        "id": "UrRgFCI37PCk"
      },
      "execution_count": 9,
      "outputs": []
    },
    {
      "cell_type": "code",
      "source": [
        "# Prepare data\n",
        "X, y = [], []  # X = images, y = labels\n",
        "\n",
        "for image_path in panda:\n",
        "    img = cv2.imread(str(image_path))\n",
        "    resized_img = cv2.resize(img, (224, 224))  # Resizing the images\n",
        "    X.append(resized_img)\n",
        "    y.append('panda')\n",
        "\n",
        "for image_path in polar:\n",
        "    img = cv2.imread(str(image_path))\n",
        "    resized_img = cv2.resize(img, (224, 224))  # Resizing the images\n",
        "    X.append(resized_img)\n",
        "    y.append('polar')\n",
        "\n",
        "for image_path in grizzly:\n",
        "    img = cv2.imread(str(image_path))\n",
        "    resized_img = cv2.resize(img, (224, 224))  # Resizing the images\n",
        "    X.append(resized_img)\n",
        "    y.append('grizzly')\n",
        "\n",
        "X = np.array(X)\n",
        "y = np.array(y)"
      ],
      "metadata": {
        "id": "2HE-wU2E7Xvc"
      },
      "execution_count": 10,
      "outputs": []
    },
    {
      "cell_type": "code",
      "source": [
        "# Flatten the image data\n",
        "X_flat = X.reshape(X.shape[0], -1)"
      ],
      "metadata": {
        "id": "xRtnOp_57br2"
      },
      "execution_count": 11,
      "outputs": []
    },
    {
      "cell_type": "code",
      "source": [
        "# Splitting the data into train and test sets\n",
        "X_train, X_test, y_train, y_test = train_test_split(X_flat, y, test_size=0.2, random_state=42)"
      ],
      "metadata": {
        "id": "ipEC5nmv7eBj"
      },
      "execution_count": 12,
      "outputs": []
    },
    {
      "cell_type": "code",
      "source": [
        "# SVM Classifier\n",
        "svm_clf = SVC(kernel='linear')\n",
        "svm_clf.fit(X_train, y_train)\n",
        "svm_y_pred = svm_clf.predict(X_test)"
      ],
      "metadata": {
        "id": "S2I_46n37hKE"
      },
      "execution_count": 13,
      "outputs": []
    },
    {
      "cell_type": "code",
      "source": [
        "# K-NN Classifier\n",
        "knn_clf = KNeighborsClassifier(n_neighbors=5)\n",
        "knn_clf.fit(X_train, y_train)\n",
        "knn_y_pred = knn_clf.predict(X_test)"
      ],
      "metadata": {
        "id": "1qDp8GCv7jC8"
      },
      "execution_count": 14,
      "outputs": []
    },
    {
      "cell_type": "code",
      "source": [
        "# Evaluate SVM Classifier\n",
        "svm_acc = accuracy_score(y_test, svm_y_pred)\n",
        "svm_report = classification_report(y_test, svm_y_pred)"
      ],
      "metadata": {
        "id": "taoTp75i7ljM"
      },
      "execution_count": 15,
      "outputs": []
    },
    {
      "cell_type": "code",
      "source": [
        "# Evaluate K-NN Classifier\n",
        "knn_acc = accuracy_score(y_test, knn_y_pred)\n",
        "knn_report = classification_report(y_test, knn_y_pred)"
      ],
      "metadata": {
        "colab": {
          "base_uri": "https://localhost:8080/"
        },
        "id": "zAqTeV8l7oEL",
        "outputId": "6f7a81dd-60d2-45b7-e1cc-5fa2bf8a2201"
      },
      "execution_count": 16,
      "outputs": [
        {
          "output_type": "stream",
          "name": "stderr",
          "text": [
            "/usr/local/lib/python3.10/dist-packages/sklearn/metrics/_classification.py:1344: UndefinedMetricWarning: Precision and F-score are ill-defined and being set to 0.0 in labels with no predicted samples. Use `zero_division` parameter to control this behavior.\n",
            "  _warn_prf(average, modifier, msg_start, len(result))\n",
            "/usr/local/lib/python3.10/dist-packages/sklearn/metrics/_classification.py:1344: UndefinedMetricWarning: Precision and F-score are ill-defined and being set to 0.0 in labels with no predicted samples. Use `zero_division` parameter to control this behavior.\n",
            "  _warn_prf(average, modifier, msg_start, len(result))\n",
            "/usr/local/lib/python3.10/dist-packages/sklearn/metrics/_classification.py:1344: UndefinedMetricWarning: Precision and F-score are ill-defined and being set to 0.0 in labels with no predicted samples. Use `zero_division` parameter to control this behavior.\n",
            "  _warn_prf(average, modifier, msg_start, len(result))\n"
          ]
        }
      ]
    },
    {
      "cell_type": "code",
      "source": [
        "print(\"SVM Accuracy:\", svm_acc)\n",
        "print(\"SVM Classification Report:\\n\", svm_report)"
      ],
      "metadata": {
        "colab": {
          "base_uri": "https://localhost:8080/"
        },
        "id": "NGko4QUL7pww",
        "outputId": "b73b9bf0-e8b5-4d77-c0b8-47e490a2bee0"
      },
      "execution_count": 17,
      "outputs": [
        {
          "output_type": "stream",
          "name": "stdout",
          "text": [
            "SVM Accuracy: 0.6410256410256411\n",
            "SVM Classification Report:\n",
            "               precision    recall  f1-score   support\n",
            "\n",
            "     grizzly       0.47      0.73      0.57        11\n",
            "       panda       0.40      0.22      0.29         9\n",
            "       polar       0.88      0.79      0.83        19\n",
            "\n",
            "    accuracy                           0.64        39\n",
            "   macro avg       0.58      0.58      0.56        39\n",
            "weighted avg       0.65      0.64      0.63        39\n",
            "\n"
          ]
        }
      ]
    },
    {
      "cell_type": "code",
      "source": [
        "print(\"\\nK-NN Accuracy:\", knn_acc)\n",
        "print(\"K-NN Classification Report:\\n\", knn_report)"
      ],
      "metadata": {
        "colab": {
          "base_uri": "https://localhost:8080/"
        },
        "id": "JLylmmQY7s52",
        "outputId": "2a468a92-4de3-4f81-e686-a32bdd47026a"
      },
      "execution_count": 18,
      "outputs": [
        {
          "output_type": "stream",
          "name": "stdout",
          "text": [
            "\n",
            "K-NN Accuracy: 0.717948717948718\n",
            "K-NN Classification Report:\n",
            "               precision    recall  f1-score   support\n",
            "\n",
            "     grizzly       0.56      0.91      0.69        11\n",
            "       panda       0.00      0.00      0.00         9\n",
            "       polar       0.86      0.95      0.90        19\n",
            "\n",
            "    accuracy                           0.72        39\n",
            "   macro avg       0.47      0.62      0.53        39\n",
            "weighted avg       0.57      0.72      0.63        39\n",
            "\n"
          ]
        }
      ]
    }
  ]
}